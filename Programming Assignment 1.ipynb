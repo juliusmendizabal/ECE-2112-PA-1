{
 "cells": [
  {
   "cell_type": "markdown",
   "id": "004d3f3b-30fe-4f7a-a16a-d0c37d8e7786",
   "metadata": {},
   "source": [
    "\"ALPHABET SOUP\" FUNCTION - Sorts the letters of a word alphabetically."
   ]
  },
  {
   "cell_type": "code",
   "execution_count": null,
   "id": "649aa490-62dc-467b-9a1e-50f31fee39be",
   "metadata": {},
   "outputs": [],
   "source": [
    "def alphabet_soup(word): #defines the name of the function and variable\n",
    "    #sorted function puts letters in a list alphabetically, while the \"\" joins the sorted letters into a string without spacing\n",
    "    return \"\".join(sorted(word)) \n",
    "\n",
    "#prompt the user for input, call the function, and print the output\n",
    "print(alphabet_soup(input(\"Enter a word: \")))"
   ]
  },
  {
   "cell_type": "markdown",
   "id": "c05526a8-c63d-4694-ab5e-e402dde3dbf7",
   "metadata": {},
   "source": [
    "\"EMOTIFY\" FUNCTION - Replaces certain words in a sentence with their emoticon equivalents."
   ]
  },
  {
   "cell_type": "code",
   "execution_count": null,
   "id": "7df25838-db69-4075-9ba3-643ee49dc8d8",
   "metadata": {
    "scrolled": true
   },
   "outputs": [],
   "source": [
    "def emotify(sentence): #defines the name of the function and variable\n",
    "    #dictionary as reference for the equivalent words of emoticons\n",
    "    emoticons = {\"smile\" : \":)\", \"grin\" : \":D\", \"sad\" : \":((\", \"mad\" : \">:(\" }\n",
    "\n",
    "    #loops the dictionary for replacement of word to emoticon\n",
    "    for word, symbol in emoticons.items():\n",
    "        sentence = sentence.replace(word, symbol) #replaces the word in the sentence to an emoticon\n",
    "    return sentence #returns the output\n",
    "\n",
    "#prompt the user for input, call the function, and print the output\n",
    "print(emotify(input(\"Enter a phrase or a sentence: \")))"
   ]
  },
  {
   "cell_type": "markdown",
   "id": "6eae9cc0-3ce4-43c7-8266-3a39eeff2cbe",
   "metadata": {},
   "source": [
    "LIST UNPACKING - Demonstrates list unpacking into first, middle, and last elements.  "
   ]
  },
  {
   "cell_type": "code",
   "execution_count": null,
   "id": "fba0e35d-81b0-4236-9be5-547882acc742",
   "metadata": {},
   "outputs": [],
   "source": [
    "list = [1, 2, 3, 4, 5, 6] #sample list\n",
    "\n",
    "first = list [0] #assigns the first in the list to variable 'first'\n",
    "middle = list [1:-1] #assigns the middle values in the list to variable 'middle' through manual slicing \n",
    "last = list [-1] #assigns the last in the list to variable 'last'\n",
    "\n",
    "#prints the output for each variable\n",
    "print(\"first:\", first)\n",
    "print(\"middle:\", middle)\n",
    "print(\"last:\", last)"
   ]
  }
 ],
 "metadata": {
  "kernelspec": {
   "display_name": "Python 3 (ipykernel)",
   "language": "python",
   "name": "python3"
  },
  "language_info": {
   "codemirror_mode": {
    "name": "ipython",
    "version": 3
   },
   "file_extension": ".py",
   "mimetype": "text/x-python",
   "name": "python",
   "nbconvert_exporter": "python",
   "pygments_lexer": "ipython3",
   "version": "3.13.5"
  }
 },
 "nbformat": 4,
 "nbformat_minor": 5
}
